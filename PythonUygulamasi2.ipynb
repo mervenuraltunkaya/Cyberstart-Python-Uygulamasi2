{
 "cells": [
  {
   "cell_type": "code",
   "execution_count": 8,
   "id": "bc394bbb",
   "metadata": {},
   "outputs": [
    {
     "name": "stdout",
     "output_type": "stream",
     "text": [
      "Noktalar arasındaki min mesafe: [5.0]\n"
     ]
    }
   ],
   "source": [
    "import math\n",
    "points=[(1,2),(4,6)]\n",
    "\n",
    "def euclideanDistance (x,y):\n",
    "    return math.sqrt(math.pow(x[0]-y[0],2) + math.pow(x[1]-y[1],2))\n",
    "                                                    \n",
    "                                                    \n",
    "distance = []\n",
    "for i in range(len(points)):\n",
    "    for j in range(i+1, len(points)):\n",
    "        dist = euclideanDistance(points[i],points[j])\n",
    "        distance.append(dist)\n",
    "        \n",
    "min_distance = min(distance)\n",
    "\n",
    "print(\"Noktalar arasındaki min mesafe:\", min_distance)\n",
    "                                                        "
   ]
  },
  {
   "cell_type": "code",
   "execution_count": null,
   "id": "d3b4c489",
   "metadata": {},
   "outputs": [],
   "source": []
  }
 ],
 "metadata": {
  "kernelspec": {
   "display_name": "Python 3 (ipykernel)",
   "language": "python",
   "name": "python3"
  },
  "language_info": {
   "codemirror_mode": {
    "name": "ipython",
    "version": 3
   },
   "file_extension": ".py",
   "mimetype": "text/x-python",
   "name": "python",
   "nbconvert_exporter": "python",
   "pygments_lexer": "ipython3",
   "version": "3.11.5"
  }
 },
 "nbformat": 4,
 "nbformat_minor": 5
}
